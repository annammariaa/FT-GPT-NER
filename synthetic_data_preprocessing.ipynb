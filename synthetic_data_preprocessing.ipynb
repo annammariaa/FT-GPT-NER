{
 "cells": [
  {
   "cell_type": "markdown",
   "id": "83d70583-cdda-4c0e-83f2-82891fe9fb9d",
   "metadata": {},
   "source": [
    "# Synthetic data preprocessing"
   ]
  },
  {
   "cell_type": "code",
   "execution_count": null,
   "id": "c73f6e70-b39b-4016-b725-a26c63d7dfa8",
   "metadata": {},
   "outputs": [],
   "source": [
    "import json\n",
    "import pandas as pd\n",
    "import re\n",
    "import tiktoken"
   ]
  },
  {
   "cell_type": "code",
   "execution_count": null,
   "id": "fb2d8393-8ac2-49c5-a7c9-5a5d9b824eb1",
   "metadata": {},
   "outputs": [],
   "source": [
    "# Data file folder and name\n",
    "foldername = \"\"\n",
    "filename = \"\"\n",
    "\n",
    "output_filename = \"\""
   ]
  },
  {
   "cell_type": "code",
   "execution_count": null,
   "id": "7cc65914-62ac-459c-aa24-f0db12d0f2b4",
   "metadata": {},
   "outputs": [],
   "source": [
    "# Data and labels\n",
    "synth_data = pd.read_csv(foldername + filename, sep=\"\\t\")\n",
    "\n",
    "label_names = synth_data['label'].unique().tolist()\n",
    "label_names.remove('O')"
   ]
  },
  {
   "cell_type": "code",
   "execution_count": null,
   "id": "732bef99-8d26-474b-b0f5-da5c35efac2b",
   "metadata": {},
   "outputs": [],
   "source": [
    "# Prompts\n",
    "system_content = \"This model extracts entities from text, returning JSON-formatted output for tags \" + \", \".join(label_names) + \".\"\n",
    "instruction = \"Extract entities \" + \", \".join(label_names) + \" from the following text and return the output in JSON format. \"\n",
    "\n",
    "# Context limit\n",
    "token_limit = 4063\n",
    "encoding = tiktoken.get_encoding(\"cl100k_base\")"
   ]
  },
  {
   "cell_type": "code",
   "execution_count": null,
   "id": "0edd5dfb-8341-4365-b985-bac3fc34f833",
   "metadata": {},
   "outputs": [],
   "source": [
    "def synth_data_to_pairs(foldername, filename, label_names):\n",
    "    '''\n",
    "    Function for formatting texts and annotations from input file.\n",
    "    Annotations are formatted as a dictionary for both labels and indexes.\n",
    "\n",
    "    The input file consists of multiple annotated texts. \n",
    "    The texts are split so the named entities are separate from the other text. \n",
    "    Each text begins with metadata, which is removed during processing.\n",
    "    The texts are separated by empty rows.\n",
    "    '''\n",
    "    with open(foldername + filename) as f:\n",
    "        synth_data = f.read().split(\"\\n\")\n",
    "\n",
    "    texts = []\n",
    "    annotations = []\n",
    "    annotations_index = []\n",
    "    \n",
    "    current_text = []\n",
    "    current_labels = {l: [] for l in label_names}  \n",
    "    current_labels_index = {l: [] for l in label_names}\n",
    "    \n",
    "    start_adding = False\n",
    "    current_index = 0\n",
    "\n",
    "    # Each row consists of two parts: text and the corresponding label\n",
    "    for line in synth_data:\n",
    "\n",
    "        # Splitting the text and label \n",
    "        parts = line.split(\"\\t\")\n",
    "\n",
    "        if len(parts) == 2:\n",
    "            \n",
    "            text, label = line.split(\"\\t\")\n",
    "    \n",
    "            if start_adding:\n",
    "                # Named entity\n",
    "                if label in label_names:\n",
    "                    current_labels[label].append(text)\n",
    "                    \n",
    "                    label_index_tuple = (current_index, current_index + len(text))\n",
    "                    current_labels_index[label].append(label_index_tuple)\n",
    "\n",
    "                # Adding the part to the text\n",
    "                current_text.append(text)\n",
    "                current_index += len(text) + 1\n",
    "\n",
    "            # The true text begins after the diagnosis code\n",
    "            if re.match(r'\\D\\d\\d-\\d\\d?', text):\n",
    "                start_adding = True\n",
    "                current_index = 0\n",
    "    \n",
    "        else:\n",
    "            # The current text has ended and the data is added to lists\n",
    "            if len(current_text) > 0:\n",
    "                total_text = \" \".join(current_text)\n",
    "                texts.append(total_text)\n",
    "                annotations.append(current_labels)\n",
    "                annotations_index.append(current_labels_index)\n",
    "\n",
    "            # New text\n",
    "            current_text = []\n",
    "            current_labels = {l: [] for l in label_names} \n",
    "            current_labels_index = {l: [] for l in label_names}\n",
    "            start_adding = False\n",
    "            current_index = 0\n",
    "\n",
    "    return texts, annotations, annotations_index"
   ]
  },
  {
   "cell_type": "code",
   "execution_count": null,
   "id": "b7017e97-e49b-4589-ad1b-6e3bd5eba39b",
   "metadata": {},
   "outputs": [],
   "source": [
    "def format_messages(text, ann, ann_index):\n",
    "    '''\n",
    "    Function for formatting example messages.\n",
    "    '''\n",
    "    messages = []\n",
    "\n",
    "    # System prompt\n",
    "    sys = {}\n",
    "    sys[\"role\"] = \"system\"\n",
    "    sys[\"content\"] = system_content\n",
    "\n",
    "    # Prompt and text\n",
    "    user = {}\n",
    "    user[\"role\"] = \"user\"\n",
    "    user[\"content\"] = instruction + text\n",
    "\n",
    "    # Labels\n",
    "    ass = {}\n",
    "    ass[\"role\"] = \"assistant\"\n",
    "    ass[\"content\"] = ann\n",
    "\n",
    "    # Labels by index\n",
    "    ass_index = {}\n",
    "    ass_index[\"role\"] = \"annotations\"\n",
    "    ass_index[\"content\"] = ann_index\n",
    "\n",
    "    messages.append(sys)\n",
    "    messages.append(user)\n",
    "    messages.append(ass)\n",
    "    messages.append(ass_index)\n",
    "\n",
    "    example = {}\n",
    "    example[\"messages\"] = messages\n",
    "\n",
    "    return example"
   ]
  },
  {
   "cell_type": "code",
   "execution_count": null,
   "id": "73180898-6f82-45f3-ac51-e30deb52a4d4",
   "metadata": {},
   "outputs": [],
   "source": [
    "def example_within_limit(example):\n",
    "    '''\n",
    "    Function to ensure that the example message is within the model's context limit.\n",
    "    '''\n",
    "    messages = example[\"messages\"]\n",
    "\n",
    "    total_tokens = 0\n",
    "    \n",
    "    for message in messages:\n",
    "        if message[\"role\"] != \"annotations\": # Excluding the annotation indexes, as they would not be included in the fine-tuning examples.\n",
    "            total_tokens += len(encoding.encode(str(message[\"content\"])))\n",
    "\n",
    "    if total_tokens <= token_limit:\n",
    "        return True\n",
    "\n",
    "    return False"
   ]
  },
  {
   "cell_type": "code",
   "execution_count": null,
   "id": "0c2c2f3f-9535-4a7e-832b-41c481c9310e",
   "metadata": {},
   "outputs": [],
   "source": [
    "def write_examples_to_file(filename, examples):\n",
    "    '''\n",
    "    Function for writing the formatted examples into a JSONL-file.\n",
    "    '''\n",
    "    with open(filename, \"w\", encoding='utf-8') as file:\n",
    "        for example in examples:\n",
    "            json.dump(example, file, ensure_ascii=False)\n",
    "            file.write('\\n')"
   ]
  },
  {
   "cell_type": "code",
   "execution_count": null,
   "id": "20f94cbd-aa64-4bde-90b0-bfb90a974d29",
   "metadata": {},
   "outputs": [],
   "source": [
    "# Formatting text and annotations\n",
    "texts, annotations, annotations_index = synth_data_to_pairs(foldername, filename, label_names)\n",
    "\n",
    "# Creating the example messages\n",
    "examples = []\n",
    "\n",
    "if len(texts) == len(annotations):\n",
    "    for i in range(len(texts)):\n",
    "        example = format_messages(texts[i], annotations[i], annotations_index[i])\n",
    "\n",
    "        if example_within_limit(example):\n",
    "            examples.append(example)"
   ]
  },
  {
   "cell_type": "code",
   "execution_count": null,
   "id": "f4a82649-7a9b-4aae-8ba1-b909d1afab17",
   "metadata": {},
   "outputs": [],
   "source": [
    "# Writing the formatted examples into a file\n",
    "write_examples_to_file(output_filename, examples)"
   ]
  },
  {
   "cell_type": "code",
   "execution_count": null,
   "id": "903bc398-471d-406f-8651-41cf2f1b63a9",
   "metadata": {},
   "outputs": [],
   "source": []
  }
 ],
 "metadata": {
  "kernelspec": {
   "display_name": "Python 3 (ipykernel)",
   "language": "python",
   "name": "python3"
  },
  "language_info": {
   "codemirror_mode": {
    "name": "ipython",
    "version": 3
   },
   "file_extension": ".py",
   "mimetype": "text/x-python",
   "name": "python",
   "nbconvert_exporter": "python",
   "pygments_lexer": "ipython3",
   "version": "3.8.18"
  }
 },
 "nbformat": 4,
 "nbformat_minor": 5
}
