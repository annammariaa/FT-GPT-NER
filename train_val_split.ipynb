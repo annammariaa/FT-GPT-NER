{
 "cells": [
  {
   "cell_type": "markdown",
   "id": "733f3ffd-4d45-4ed2-ab1e-bd554fc58d9e",
   "metadata": {},
   "source": [
    "# Divide fine-tuning examples into training and validation sets"
   ]
  },
  {
   "cell_type": "code",
   "execution_count": null,
   "id": "f2603604-75a7-4b4a-a80b-def100699e5a",
   "metadata": {},
   "outputs": [],
   "source": [
    "import json"
   ]
  },
  {
   "cell_type": "code",
   "execution_count": null,
   "id": "006ec654-ddc1-401a-bf3e-7c9525f1c92a",
   "metadata": {},
   "outputs": [],
   "source": [
    "# Reading formatted examples\n",
    "data_filename = \"\"\n",
    "\n",
    "with open(data_filename, 'r', encoding='utf-8') as f:\n",
    "    dataset_now = [json.loads(line) for line in f]"
   ]
  },
  {
   "cell_type": "code",
   "execution_count": null,
   "id": "01ccce08-502a-4f53-be06-f597cc152159",
   "metadata": {},
   "outputs": [],
   "source": [
    "# Pick the combined size of the dataset\n",
    "n = len(dataset_now) # 150 300\n",
    "dataset_now = [:n]\n",
    "\n",
    "# Validation set split size (20%)\n",
    "val_split = 0.2\n",
    "val_n = int(n*val_split)\n",
    "\n",
    "# Training and validation set filenames\n",
    "new_train = \"\"\n",
    "new_val = \"\""
   ]
  },
  {
   "cell_type": "code",
   "execution_count": null,
   "id": "39dff255-9e80-4547-a247-cfa47001ded8",
   "metadata": {},
   "outputs": [],
   "source": [
    "# Divide into a training set and a validation set\n",
    "train_data = dataset_now[val_n:]\n",
    "val_data = dataset_now[:val_n]"
   ]
  },
  {
   "cell_type": "code",
   "execution_count": null,
   "id": "3907966b-7110-44a1-8ba4-c3e7266d71ba",
   "metadata": {},
   "outputs": [],
   "source": [
    "def write_examples_to_file(filename, examples):\n",
    "    '''\n",
    "    The function writes responses to a JSONL file.\n",
    "\n",
    "    The function takes in tuning examples (examples) and writes them into the given file (filename).\n",
    "    '''\n",
    "    with open(filename, \"w\") as file:\n",
    "        for example in examples:\n",
    "            json.dump(example, file)\n",
    "            file.write('\\n')"
   ]
  },
  {
   "cell_type": "code",
   "execution_count": null,
   "id": "05a28934-a71e-45b2-a8e0-8511610d0fa2",
   "metadata": {},
   "outputs": [],
   "source": [
    "# Write to file\n",
    "write_examples_to_file(new_train, train_data)\n",
    "write_examples_to_file(new_val, val_data)"
   ]
  }
 ],
 "metadata": {
  "kernelspec": {
   "display_name": "Python 3 (ipykernel)",
   "language": "python",
   "name": "python3"
  },
  "language_info": {
   "codemirror_mode": {
    "name": "ipython",
    "version": 3
   },
   "file_extension": ".py",
   "mimetype": "text/x-python",
   "name": "python",
   "nbconvert_exporter": "python",
   "pygments_lexer": "ipython3",
   "version": "3.8.18"
  }
 },
 "nbformat": 4,
 "nbformat_minor": 5
}
